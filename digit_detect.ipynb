{
  "nbformat": 4,
  "nbformat_minor": 0,
  "metadata": {
    "colab": {
      "name": "digit_detect.ipynb",
      "provenance": [],
      "collapsed_sections": [],
      "toc_visible": true
    },
    "kernelspec": {
      "name": "python3",
      "display_name": "Python 3"
    },
    "language_info": {
      "name": "python"
    }
  },
  "cells": [
    {
      "cell_type": "markdown",
      "metadata": {
        "id": "RoSTCnssuptA"
      },
      "source": [
        "#### Imports for main"
      ]
    },
    {
      "cell_type": "code",
      "metadata": {
        "id": "H58vsaspuNho"
      },
      "source": [
        "from torchvision import torch, datasets, transforms\n",
        "import torch.nn as nn\n",
        "import torch.nn.functional as fnc\n",
        "import cv2\n",
        "from google.colab.patches import cv2_imshow\n",
        "import os"
      ],
      "execution_count": 23,
      "outputs": []
    },
    {
      "cell_type": "markdown",
      "metadata": {
        "id": "yQ-UyXFouzxQ"
      },
      "source": [
        "#### Imports for model class"
      ]
    },
    {
      "cell_type": "code",
      "metadata": {
        "id": "58I_gYmuu3IL"
      },
      "source": [
        "import numpy as np\n",
        "from tqdm.notebook import tqdm"
      ],
      "execution_count": 3,
      "outputs": []
    },
    {
      "cell_type": "markdown",
      "metadata": {
        "id": "nRicGKhCvItz"
      },
      "source": [
        "#### Imports for image manipulation functions"
      ]
    },
    {
      "cell_type": "code",
      "metadata": {
        "id": "_qNo15pnvNsR"
      },
      "source": [
        "from PIL import Image\n",
        "import matplotlib.pyplot as plt"
      ],
      "execution_count": 13,
      "outputs": []
    },
    {
      "cell_type": "markdown",
      "metadata": {
        "id": "pIzx6ZHA4hnv"
      },
      "source": [
        "#### Mounting your Google Drive\n",
        "\n",
        "**Note:** You will need to make a folder called \"Colab Notebooks\" in your Google Drive. Under this folder, make a folder called \"MNIST_ocr\". Store the image(s) to be analyzed in this folder under a folder called \"test_images\". Make another folder under MNIST_ocr called \"bnw_images\".\n",
        "\n",
        "Alternatively, you can find pre-made folders at <a href=\"https://github.com/black-tul1p/digit-ocr\">my GitHub repo</a>."
      ]
    },
    {
      "cell_type": "code",
      "metadata": {
        "colab": {
          "base_uri": "https://localhost:8080/"
        },
        "id": "k0nZf2ZO4IwA",
        "outputId": "9b4476d3-d0de-4bb9-c48b-fc2283213224"
      },
      "source": [
        "from google.colab import drive\n",
        "drive.mount('/content/gdrive')"
      ],
      "execution_count": 5,
      "outputs": [
        {
          "output_type": "stream",
          "text": [
            "Mounted at /content/gdrive\n"
          ],
          "name": "stdout"
        }
      ]
    },
    {
      "cell_type": "markdown",
      "metadata": {
        "id": "_Ai5PG-buTBa"
      },
      "source": [
        "#### Global variables"
      ]
    },
    {
      "cell_type": "code",
      "metadata": {
        "id": "89eJm4kquXXm"
      },
      "source": [
        "image_size = 28*28\n",
        "num_classes = 10\n",
        "batch = 100\n",
        "img_num = 3\n",
        "debug = False"
      ],
      "execution_count": 7,
      "outputs": []
    },
    {
      "cell_type": "markdown",
      "metadata": {
        "id": "CGwn--a3u61v"
      },
      "source": [
        "#### MNIST model class"
      ]
    },
    {
      "cell_type": "code",
      "metadata": {
        "id": "cnpjVqOnu84O"
      },
      "source": [
        "## Class that defines the LR model\n",
        "class MNIST_Model(nn.Module):\n",
        "\tdef __init__(self):\n",
        "\t\tsuper().__init__()\n",
        "\t\tself.linear=nn.Linear(image_size, num_classes)\n",
        "\n",
        "\tdef forward(self, image):\n",
        "\t\timage = image.reshape(-1, 784)\n",
        "\t\toutput = self.linear(image)\n",
        "\t\treturn output\n",
        "\n",
        "\tdef training_step(self, batch):\n",
        "\t\timages, labels = batch\n",
        "\t\toutput = self(images)\n",
        "\t\tloss = fnc.cross_entropy(output, labels)\n",
        "\t\treturn loss\n",
        "\t\n",
        "\tdef validation_step(self, batch):\n",
        "\t\timages, labels=batch\n",
        "\t\toutput = self(images)\n",
        "\t\tloss = fnc.cross_entropy(output, labels)\n",
        "\t\tacc = get_accuracy(output, labels)\n",
        "\t\treturn {'val_loss': loss, 'val_acc': acc}\n",
        "\t\n",
        "\tdef validation_epoch_end(self, output):\n",
        "\t\tbatch_losses=[x['val_loss'] for x in output]\n",
        "\t\tepoch_loss=torch.stack(batch_losses).mean()\n",
        "\t\tbatch_accs=[x['val_acc'] for x in output]\n",
        "\t\tepoch_acc=torch.stack(batch_accs).mean()\n",
        "\t\treturn {'val_loss':epoch_loss.item(), 'val_acc':epoch_acc.item()}\n",
        "\t\n",
        "\tdef epoch_end(self, epoch, result):\n",
        "\t  print(\"Epoch [{}], val_loss={:.4f}, val_acc={:.4f}\".format(epoch, result['val_loss'], result['val_acc']))"
      ],
      "execution_count": 8,
      "outputs": []
    },
    {
      "cell_type": "markdown",
      "metadata": {
        "id": "wVqBuj9tu_Tp"
      },
      "source": [
        "#### Helper functions"
      ]
    },
    {
      "cell_type": "code",
      "metadata": {
        "id": "SjJDC9ZPvBTW"
      },
      "source": [
        "# Calculate gradient values using Stochastic Gradient Descent\n",
        "def get_gradient(epochs, model, lr, train_loader, test_loader):\n",
        "\toptimizer = torch.optim.SGD(model.parameters(), lr)\n",
        "\tfor epoch in tqdm(range(epochs), desc='Training progress'):\n",
        "\t\tfor batch in train_loader:\n",
        "\t\t\tloss = model.training_step(batch)\n",
        "\t\t\tloss.backward()\n",
        "\t\t\toptimizer.step()\n",
        "\t\t\toptimizer.zero_grad()\n",
        "\t\t# Validation of predictions for epoch\n",
        "\t\tresult = compare(model, test_loader)\n",
        "\t\tif debug == True:\n",
        "\t\t\tmodel.epoch_end(epoch, result)\n",
        "\n",
        "# Get % accuracy of predictions\n",
        "def get_accuracy(output, labels):\n",
        "\t_, predictions = torch.max(output, dim=1)\n",
        "\treturn torch.tensor(torch.sum(predictions == labels).item()/len(predictions))\n",
        "\n",
        "# Validates predictions\n",
        "def compare(model, test_loader):\n",
        "\tout=[model.validation_step(batch) for batch in test_loader]\n",
        "\treturn model.validation_epoch_end(out)\n",
        "\n",
        "# Returns prediction for given image\n",
        "def predict(image, model):\n",
        "\txb=image.unsqueeze(0)\n",
        "\tyb=model(xb)\n",
        "\t_, preds=torch.max(yb, dim=1)\n",
        "\treturn preds[0].item()"
      ],
      "execution_count": 9,
      "outputs": []
    },
    {
      "cell_type": "markdown",
      "metadata": {
        "id": "rc2E2boMvSwK"
      },
      "source": [
        "#### Image manipulation functions"
      ]
    },
    {
      "cell_type": "code",
      "metadata": {
        "id": "kQbzNK6LvVaz"
      },
      "source": [
        "def convert_bnw(in_path, out_path):\n",
        "\trgb_image = Image.open(in_path)\n",
        "\tbnw_image = rgb_image.convert('L')\n",
        "\tbnw_image.save(out_path)\n",
        "\n",
        "def resize_img(img_path):\n",
        "\tinput_im = cv2.imread(img_path)\n",
        "\tinput_im = cv2.resize(input_im, (28, 28))\n",
        "\t# cv2_imshow(\"image_converted\", input_im)\n",
        "\t# cv2.waitKey(0)\n",
        "\t# cv2.destroyAllWindows()\n",
        "\treturn input_im\n",
        "\n",
        "def to_float_tensor(np_array):\n",
        "\treturn torch.from_numpy(np_array).float()"
      ],
      "execution_count": 16,
      "outputs": []
    },
    {
      "cell_type": "markdown",
      "metadata": {
        "id": "5X6m7irCuZH6"
      },
      "source": [
        "#### Main function"
      ]
    },
    {
      "cell_type": "code",
      "metadata": {
        "id": "hHuIKP53ubUC"
      },
      "source": [
        "def main():\n",
        "\tchoice = input(\"Train the model? (Y/N): \").lower()\n",
        "\tif choice == \"y\":\n",
        "\t\tnum_epochs = int(input(\"Enter number of training Epochs: \"))\n",
        "\n",
        "\timage_name = input(\"Enter image name (under /test_images/): \")\n",
        "\tif image_name == \"\":\n",
        "\t\tprint(\"\\nNo image specified. Defaulting to image_{}.jpg...\\n\".format(img_num))\n",
        "\n",
        "\t# Get MNIST training data\n",
        "\tmnist_train = datasets.MNIST(root=\"./gdrive/MyDrive/Colab Notebooks/MNIST_ocr/datasets\", train=True, transform=transforms.ToTensor(), download=True)\n",
        "\tmnist_test = datasets.MNIST(root=\"./gdrive/MyDrive/Colab Notebooks/MNIST_ocr/datasets\", train=False, transform=transforms.ToTensor(), download=True)\n",
        "\n",
        "\t# Load and shuffle dataset\n",
        "\ttrain_loader = torch.utils.data.DataLoader(mnist_train, batch_size=batch, shuffle=True)\n",
        "\ttest_loader = torch.utils.data.DataLoader(mnist_test, batch_size=batch, shuffle=False)\n",
        "\n",
        "\t# Define model\n",
        "\tmodel = MNIST_Model()\n",
        "\tmodel.linear\n",
        "\tfor images, labels in train_loader:\n",
        "\t\tout = model(images)\n",
        "\t\tbreak\n",
        "\n",
        "\t# Get probabilities using softmax function \n",
        "\tprob = fnc.softmax(out, dim=1)\n",
        "\n",
        "\t# saving the model\n",
        "\tif choice == \"y\":\n",
        "\t\tget_gradient(num_epochs, model, 0.4, train_loader, test_loader)\n",
        "\t\ttorch.save(model.state_dict(), './gdrive/MyDrive/Colab Notebooks/MNIST_ocr/mnist-digit-ocr.pth')\n",
        "\n",
        "\t# Read image and convert to greyscale\n",
        "\tif image_name == \"\":\n",
        "\t\tin_path =  os.path.join(\".\", \"gdrive\", \"MyDrive\", \"Colab Notebooks\", \"MNIST_ocr\", \"test_images\", \"image_\"+str(img_num)+\".png\")\n",
        "\t\tout_path = os.path.join(\".\", \"gdrive\", \"MyDrive\", \"Colab Notebooks\", \"MNIST_ocr\", \"bnw_images\", \"outfile\"+str(img_num)+\".png\")\n",
        "\telse:\n",
        "\t\tin_path =  os.path.join(\".\", \"gdrive\", \"MyDrive\", \"Colab Notebooks\", \"MNIST_ocr\", \"test_images\", image_name)\n",
        "\t\tout_path = os.path.join(\".\", \"gdrive\", \"MyDrive\", \"Colab Notebooks\", \"MNIST_ocr\", \"bnw_images\", image_name)\n",
        "\tconvert_bnw(in_path, out_path)\n",
        "\tplt.imshow(cv2.imread(out_path))\n",
        "\n",
        "\t# Resize and convert image to Tensor for analysis\n",
        "\tinput_im = resize_img(out_path)\n",
        "\tinput_im = to_float_tensor(input_im)\n",
        "\n",
        "\t# Load existing model if requested\n",
        "\tif choice != \"y\":\n",
        "\t\tmodel_new = MNIST_Model()\n",
        "\t\tmodel_new.load_state_dict(torch.load('./gdrive/MyDrive/Colab Notebooks/MNIST_ocr/mnist-digit-ocr.pth'))\n",
        "\t\t# print('Label:', label, ', Predicted:', predict(input_im, model_new))\n",
        "\t\tprint('Predicted:', predict(input_im, model_new))\n",
        "\telse:\n",
        "\t\t# print('Label:', label, ', Predicted:', predict(input_im, model))\n",
        "\t\tprint('Predicted:', predict(input_im, model))\n",
        "\t\t# input(\"Save? (ctrl-C to save)\")"
      ],
      "execution_count": 11,
      "outputs": []
    },
    {
      "cell_type": "markdown",
      "metadata": {
        "id": "4FTVVRczuhQN"
      },
      "source": [
        "#### Calling main"
      ]
    },
    {
      "cell_type": "code",
      "metadata": {
        "colab": {
          "base_uri": "https://localhost:8080/",
          "height": 371
        },
        "id": "YeFZBbGZuja3",
        "outputId": "47ffadb7-c6ce-4974-aa80-21ac7dd60d2e"
      },
      "source": [
        "if __name__==\"__main__\":\n",
        "\tmain()"
      ],
      "execution_count": 22,
      "outputs": [
        {
          "output_type": "stream",
          "text": [
            "Train the model? (Y/N): n\n",
            "Enter image name (under /test_images/): \n",
            "\n",
            "No image specified. Defaulting to image_3.jpg...\n",
            "\n",
            "Predicted: 3\n"
          ],
          "name": "stdout"
        },
        {
          "output_type": "display_data",
          "data": {
            "image/png": "[encoded data removed]",
            "text/plain": [
              "<Figure size 432x288 with 1 Axes>"
            ]
          },
          "metadata": {
            "tags": [],
            "needs_background": "light"
          }
        }
      ]
    }
  ]
}